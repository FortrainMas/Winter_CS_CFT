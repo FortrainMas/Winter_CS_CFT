{
 "cells": [
  {
   "cell_type": "code",
   "execution_count": 43,
   "metadata": {},
   "outputs": [],
   "source": [
    "from lightgbm import LGBMClassifier\n",
    "from sklearn.model_selection import train_test_split\n",
    "from sklearn.metrics import roc_auc_score\n",
    "from sklearn.preprocessing import Normalizer, StandardScaler\n",
    "\n",
    "import pandas as pd\n",
    "import numpy as np"
   ]
  },
  {
   "cell_type": "code",
   "execution_count": 84,
   "metadata": {},
   "outputs": [
    {
     "data": {
      "text/plain": [
       "(1107611, 28)"
      ]
     },
     "execution_count": 84,
     "metadata": {},
     "output_type": "execute_result"
    }
   ],
   "source": [
    "df_train = pd.read_csv(\"train.csv\", indeX_col=0)\n",
    "df_train.shape"
   ]
  },
  {
   "cell_type": "code",
   "execution_count": 85,
   "metadata": {},
   "outputs": [],
   "source": [
    "X=df_train.drop([\"target\"], aXis=1)\n",
    "y=df_train[\"target\"]"
   ]
  },
  {
   "cell_type": "markdown",
   "metadata": {},
   "source": [
    "#### Значения, которые точно нужно дробнуть\n",
    "\n",
    "lei - Legal Entity Identifier. Идентификатор пользователя. Шум\n",
    "county_code - Вроде не самый бесполезный параметр, но там слишком много различных значений, тоже больше похоже на шум\n"
   ]
  },
  {
   "cell_type": "markdown",
   "metadata": {},
   "source": [
    "#### Значения, которые вероятно нужно дробнуть\n",
    "\n",
    "county_code - Вроде не самый бесполезный параметр, но там слишком много различных значений, тоже больше похоже на шум\n",
    "census_tract - Номер райончика. Тоже самое, слишком много значений. Нужно поэксперементировать "
   ]
  },
  {
   "cell_type": "markdown",
   "metadata": {},
   "source": [
    "### Важные значния, которые нужно переделать из категориальных\n",
    "- conforming_loan_limit - Не до конца понял, что означают возможные значнения(C/NC/U), но это что-то вроде готовности государственных компаний выкупить эту ипотеку\n",
    "- derived_loan_product_type - что-то про возможность спереть дома, пока кредит не будет выплочен, ну либо просто спереть дом. Так-то связано с lien_status, может быть их как-то объеденить.\n",
    "- derived_dwelling_category - чето про категорию проживания заемщика\n",
    "- derived_ethnicity, derived_race - стоит заюзать, но объеденить в одну категорию \n",
    "- derived_seX\n",
    "\n",
    "*Эти интовые, но там какая-то лабуда в значениях, нужно наверно 1111 заменить на 0*\n",
    "- reverse_mortage - финансовое соглашение, по которому домовладелец отказывается от доли в своем доме в обмен на регулярные выплаты, обычно в дополнение к пенсионному доходу. Не знаю повлияет или нет, но может быть. https://clck.ru/38S9F7 - картиночка, которая это понятно объясняет.\n",
    "- open-end_line_of_credit - Открытый кредит — это кредит от банка или другого финансового учреждения, который заемщик может использовать повторно, до определенной заранее утвержденной суммы, и который не имеет фиксированной даты окончания полного погашения. Открытый кредит также называют возобновляемым кредитом.\n",
    "- business_or_commercial_purpose\n"
   ]
  },
  {
   "cell_type": "markdown",
   "metadata": {},
   "source": [
    "### Короче, все что я гуглил\n",
    "- loan_to_value_ratio - (размер долга)/(стоимость покупки)\n",
    "- total_loan_costs - сколько банк заработает на кредите - проценты и сборы, тело кредита не включается\n",
    "- total_points_and_fees - короче, судя по описанию это что-то вроде первоначального взноса. Но почему-то на сайте фэнимэй написано про ограничение в 3 и в 5 процентов в зависимости от кейсов, мне лень разбираться в америкоском законодательстве. Короче, чем больше, тем лучше prolly, хотя вот здесь наверно стоит перевести это в проценты от самого кредита, потому что в таблице даны абсолютные значения. Для предыдущей ерунды то же самое\n",
    "- origination_fee - плата за то, чтобы банк работать начал. Никак не покрывает дальнейший кредит\n",
    "- discount_points - вот тоже про первоначальный взнос. Короче total_points_and_fees это видимо их сумма\n",
    "- lender_credits - это discount_points задом наперед. Ты платишь меньше origination_fee, но у тебя больше месячная ставка. Короче, тебе типа в кредит закидывают оплату работы банка, мб еще работы юристов, с которыми ты дом покупал\n",
    "- loan_term - продолжительность кредита, видимо в месяцах\n",
    "- prepayment_penalty_term - сбор за то, что ты решишь выплатить весь свой кредит раньше срока\n",
    "- intro_rate_period - период, пока ставка по кредиту ниже первоначальной\n",
    "- negative_amortization - Иногда заемщик может временно платить меньше денег, чем ему начисляют процентов. Тогда кредит растет. Это называется отрицательной амортизацией\n",
    "- interest_only_payment - тип ипотеки, когда заемщику какое-то время позволяется платить только проценты\n",
    "- balloon_payment - тип ипотеки, когда заемщик платит маленькие выплаты в течении всего времени, а потом платит одну большую выплату в конце кредитного периода\n",
    "- other_nonamortizing_features - Неамортизируемые кредиты требуют, чтобы их основная сумма выплачивалась единовременно, а не регулярными платежами, и обычно имеют короткий срок и высокую процентную ставку. Видимо имеется в виду такой тип кредитования. Потому что там тоже true/false значения\n",
    "\n",
    "-сonstruction_method - там два типа данных 1 и 2. Понятия не имею, че они имеют в виду. Нужно построить графики, посмотреть есть ли вообще какая-то корреляция\n",
    "\n",
    "-occupancy_type - основной дом, второй дом, инвестиция\n",
    "-manufactured_home_secured_property_type - что-то про дома, которые можно произвести на заводе, а потом быстро собрать. Короче, довольно стандартные вот эти американские дома (https://en.wikipedia.org/wiki/Mobile_home)\n",
    "-manufactured_home_land_ property_ interest - процент за землю для сборного дома\n"
   ]
  },
  {
   "cell_type": "code",
   "execution_count": null,
   "metadata": {},
   "outputs": [],
   "source": []
  },
  {
   "cell_type": "markdown",
   "metadata": {},
   "source": [
    "### Самая глупая базовая моделька"
   ]
  },
  {
   "cell_type": "code",
   "execution_count": 39,
   "metadata": {},
   "outputs": [],
   "source": [
    "X_train, X_val, y_train, y_val = train_test_split(X, y,\n",
    "                                                  test_size=0.2,\n",
    "                                                  random_state=42)"
   ]
  },
  {
   "cell_type": "code",
   "execution_count": 40,
   "metadata": {},
   "outputs": [
    {
     "data": {
      "text/html": [
       "<style>#sk-container-id-10 {color: black;}#sk-container-id-10 pre{padding: 0;}#sk-container-id-10 div.sk-toggleable {background-color: white;}#sk-container-id-10 label.sk-toggleable__label {cursor: pointer;display: block;width: 100%;margin-bottom: 0;padding: 0.3em;box-sizing: border-box;text-align: center;}#sk-container-id-10 label.sk-toggleable__label-arrow:before {content: \"▸\";float: left;margin-right: 0.25em;color: #696969;}#sk-container-id-10 label.sk-toggleable__label-arrow:hover:before {color: black;}#sk-container-id-10 div.sk-estimator:hover label.sk-toggleable__label-arrow:before {color: black;}#sk-container-id-10 div.sk-toggleable__content {max-height: 0;max-width: 0;overflow: hidden;text-align: left;background-color: #f0f8ff;}#sk-container-id-10 div.sk-toggleable__content pre {margin: 0.2em;color: black;border-radius: 0.25em;background-color: #f0f8ff;}#sk-container-id-10 input.sk-toggleable__control:checked~div.sk-toggleable__content {max-height: 200px;max-width: 100%;overflow: auto;}#sk-container-id-10 input.sk-toggleable__control:checked~label.sk-toggleable__label-arrow:before {content: \"▾\";}#sk-container-id-10 div.sk-estimator input.sk-toggleable__control:checked~label.sk-toggleable__label {background-color: #d4ebff;}#sk-container-id-10 div.sk-label input.sk-toggleable__control:checked~label.sk-toggleable__label {background-color: #d4ebff;}#sk-container-id-10 input.sk-hidden--visually {border: 0;clip: rect(1px 1px 1px 1px);clip: rect(1px, 1px, 1px, 1px);height: 1px;margin: -1px;overflow: hidden;padding: 0;position: absolute;width: 1px;}#sk-container-id-10 div.sk-estimator {font-family: monospace;background-color: #f0f8ff;border: 1px dotted black;border-radius: 0.25em;box-sizing: border-box;margin-bottom: 0.5em;}#sk-container-id-10 div.sk-estimator:hover {background-color: #d4ebff;}#sk-container-id-10 div.sk-parallel-item::after {content: \"\";width: 100%;border-bottom: 1px solid gray;flex-grow: 1;}#sk-container-id-10 div.sk-label:hover label.sk-toggleable__label {background-color: #d4ebff;}#sk-container-id-10 div.sk-serial::before {content: \"\";position: absolute;border-left: 1px solid gray;box-sizing: border-box;top: 0;bottom: 0;left: 50%;z-index: 0;}#sk-container-id-10 div.sk-serial {display: flex;flex-direction: column;align-items: center;background-color: white;padding-right: 0.2em;padding-left: 0.2em;position: relative;}#sk-container-id-10 div.sk-item {position: relative;z-index: 1;}#sk-container-id-10 div.sk-parallel {display: flex;align-items: stretch;justify-content: center;background-color: white;position: relative;}#sk-container-id-10 div.sk-item::before, #sk-container-id-10 div.sk-parallel-item::before {content: \"\";position: absolute;border-left: 1px solid gray;box-sizing: border-box;top: 0;bottom: 0;left: 50%;z-index: -1;}#sk-container-id-10 div.sk-parallel-item {display: flex;flex-direction: column;z-index: 1;position: relative;background-color: white;}#sk-container-id-10 div.sk-parallel-item:first-child::after {align-self: flex-end;width: 50%;}#sk-container-id-10 div.sk-parallel-item:last-child::after {align-self: flex-start;width: 50%;}#sk-container-id-10 div.sk-parallel-item:only-child::after {width: 0;}#sk-container-id-10 div.sk-dashed-wrapped {border: 1px dashed gray;margin: 0 0.4em 0.5em 0.4em;box-sizing: border-box;padding-bottom: 0.4em;background-color: white;}#sk-container-id-10 div.sk-label label {font-family: monospace;font-weight: bold;display: inline-block;line-height: 1.2em;}#sk-container-id-10 div.sk-label-container {text-align: center;}#sk-container-id-10 div.sk-container {/* jupyter's `normalize.less` sets `[hidden] { display: none; }` but bootstrap.min.css set `[hidden] { display: none !important; }` so we also need the `!important` here to be able to override the default hidden behavior on the sphinx rendered scikit-learn.org. See: https://github.com/scikit-learn/scikit-learn/issues/21755 */display: inline-block !important;position: relative;}#sk-container-id-10 div.sk-text-repr-fallback {display: none;}</style><div id=\"sk-container-id-10\" class=\"sk-top-container\"><div class=\"sk-text-repr-fallback\"><pre>LGBMClassifier(max_depth=100, n_estimators=400, random_state=42, verbosity=-1)</pre><b>In a Jupyter environment, please rerun this cell to show the HTML representation or trust the notebook. <br />On GitHub, the HTML representation is unable to render, please try loading this page with nbviewer.org.</b></div><div class=\"sk-container\" hidden><div class=\"sk-item\"><div class=\"sk-estimator sk-toggleable\"><input class=\"sk-toggleable__control sk-hidden--visually\" id=\"sk-estimator-id-10\" type=\"checkbox\" checked><label for=\"sk-estimator-id-10\" class=\"sk-toggleable__label sk-toggleable__label-arrow\">LGBMClassifier</label><div class=\"sk-toggleable__content\"><pre>LGBMClassifier(max_depth=100, n_estimators=400, random_state=42, verbosity=-1)</pre></div></div></div></div></div>"
      ],
      "text/plain": [
       "LGBMClassifier(max_depth=100, n_estimators=400, random_state=42, verbosity=-1)"
      ]
     },
     "execution_count": 40,
     "metadata": {},
     "output_type": "execute_result"
    }
   ],
   "source": [
    "model = LGBMClassifier(verbosity=-1, random_state=42, maX_depth=100, n_estimators=400)\n",
    "model.fit(X_train, y_train)"
   ]
  },
  {
   "cell_type": "code",
   "execution_count": 33,
   "metadata": {},
   "outputs": [
    {
     "data": {
      "text/plain": [
       "0.924559602391559"
      ]
     },
     "execution_count": 33,
     "metadata": {},
     "output_type": "execute_result"
    }
   ],
   "source": [
    "y_pred = model.predict_proba(X_val)[:, 1]\n",
    "roc_auc_score(y_val, y_pred)"
   ]
  },
  {
   "cell_type": "code",
   "execution_count": 53,
   "metadata": {},
   "outputs": [
    {
     "name": "stdout",
     "output_type": "stream",
     "text": [
      "<class 'pandas.core.frame.DataFrame'>\n",
      "Index: 1107611 entries, 0 to 1107610\n",
      "Data columns (total 28 columns):\n",
      " #   Column                          Non-Null Count    Dtype  \n",
      "---  ------                          --------------    -----  \n",
      " 0   applicant_ethnicity             1107611 non-null  float64\n",
      " 1   income                          984345 non-null   float64\n",
      " 2   applicant_race_1                1107376 non-null  float64\n",
      " 3   applicant_race_2                35442 non-null    float64\n",
      " 4   applicant_race_3                3369 non-null     float64\n",
      " 5   applicant_race_4                374 non-null      float64\n",
      " 6   applicant_race_5                106 non-null      float64\n",
      " 7   applicant_sex                   1107611 non-null  int64  \n",
      " 8   co_applicant_ethnicity          1107611 non-null  int64  \n",
      " 9   co_applicant_race_1             1107523 non-null  float64\n",
      " 10  co_applicant_race_2             11395 non-null    float64\n",
      " 11  co_applicant_race_3             999 non-null      float64\n",
      " 12  co_applicant_race_4             86 non-null       float64\n",
      " 13  co_applicant_race_5             25 non-null       float64\n",
      " 14  co_applicant_sex                1107611 non-null  int64  \n",
      " 15  loan_purpose                    1107611 non-null  int64  \n",
      " 16  loan_type                       1107611 non-null  int64  \n",
      " 17  msamd                           1107611 non-null  int64  \n",
      " 18  preapproval                     1107611 non-null  int64  \n",
      " 19  property_type                   1107611 non-null  int64  \n",
      " 20  purchaser_type                  1107611 non-null  int64  \n",
      " 21  hud_median_family_income        1107611 non-null  int64  \n",
      " 22  loan_amount                     1107611 non-null  float64\n",
      " 23  number_of_1_to_4_family_units   1107611 non-null  int64  \n",
      " 24  number_of_owner_occupied_units  1107611 non-null  int64  \n",
      " 25  minority_population             1107611 non-null  float64\n",
      " 26  population                      1107611 non-null  int64  \n",
      " 27  target                          1107611 non-null  bool   \n",
      "dtypes: bool(1), float64(14), int64(13)\n",
      "memory usage: 237.7 MB\n"
     ]
    }
   ],
   "source": [
    "df_train.info()"
   ]
  },
  {
   "cell_type": "markdown",
   "metadata": {},
   "source": [
    "#### Другая попытка оптимизации"
   ]
  },
  {
   "cell_type": "markdown",
   "metadata": {},
   "source": []
  },
  {
   "cell_type": "markdown",
   "metadata": {},
   "source": []
  },
  {
   "cell_type": "code",
   "execution_count": 91,
   "metadata": {},
   "outputs": [
    {
     "data": {
      "text/plain": [
       "0"
      ]
     },
     "execution_count": 91,
     "metadata": {},
     "output_type": "execute_result"
    }
   ],
   "source": [
    "X[\"applicant_race_1\"] = X[\"applicant_race_1\"].fillna(X[\"applicant_race_1\"].median())\n",
    "X[\"applicant_race_2\"] = X[\"applicant_race_2\"].fillna(X[\"applicant_race_2\"].median())\n",
    "X[\"applicant_race_3\"] = X[\"applicant_race_3\"].fillna(X[\"applicant_race_3\"].median())\n",
    "X[\"applicant_race_4\"] = X[\"applicant_race_4\"].fillna(X[\"applicant_race_4\"].median())\n",
    "X[\"applicant_race_5\"] = X[\"applicant_race_5\"].fillna(X[\"applicant_race_5\"].median())\n",
    "\n",
    "X[\"applicant_race_2\"].isna().sum()"
   ]
  },
  {
   "cell_type": "code",
   "execution_count": 12,
   "metadata": {},
   "outputs": [
    {
     "name": "stdout",
     "output_type": "stream",
     "text": [
      "<class 'pandas.core.frame.DataFrame'>\n",
      "Index: 1107611 entries, 0 to 1107610\n",
      "Data columns (total 27 columns):\n",
      " #   Column                          Non-Null Count    Dtype   \n",
      "---  ------                          --------------    -----   \n",
      " 0   applicant_ethnicity             1107611 non-null  category\n",
      " 1   income                          984345 non-null   float64 \n",
      " 2   applicant_race_1                1107376 non-null  category\n",
      " 3   applicant_race_2                35442 non-null    category\n",
      " 4   applicant_race_3                3369 non-null     category\n",
      " 5   applicant_race_4                374 non-null      category\n",
      " 6   applicant_race_5                106 non-null      category\n",
      " 7   applicant_sex                   1107611 non-null  category\n",
      " 8   co_applicant_ethnicity          1107611 non-null  category\n",
      " 9   co_applicant_race_1             1107523 non-null  category\n",
      " 10  co_applicant_race_2             11395 non-null    category\n",
      " 11  co_applicant_race_3             999 non-null      category\n",
      " 12  co_applicant_race_4             86 non-null       category\n",
      " 13  co_applicant_race_5             25 non-null       category\n",
      " 14  co_applicant_sex                1107611 non-null  category\n",
      " 15  loan_purpose                    1107611 non-null  category\n",
      " 16  loan_type                       1107611 non-null  category\n",
      " 17  msamd                           1107611 non-null  int64   \n",
      " 18  preapproval                     1107611 non-null  category\n",
      " 19  property_type                   1107611 non-null  category\n",
      " 20  purchaser_type                  1107611 non-null  int64   \n",
      " 21  hud_median_family_income        1107611 non-null  int64   \n",
      " 22  loan_amount                     1107611 non-null  float64 \n",
      " 23  number_of_1_to_4_family_units   1107611 non-null  int64   \n",
      " 24  number_of_owner_occupied_units  1107611 non-null  int64   \n",
      " 25  minority_population             1107611 non-null  float64 \n",
      " 26  population                      1107611 non-null  int64   \n",
      "dtypes: category(18), float64(3), int64(6)\n",
      "memory usage: 103.5 MB\n"
     ]
    }
   ],
   "source": [
    "\n",
    "\n",
    "X = X.astype({\n",
    "    \"applicant_ethnicity\": \"category\",\n",
    "    \"applicant_race_1\": \"category\",\n",
    "    \"applicant_race_2\": \"category\",\n",
    "    \"applicant_race_3\": \"category\",\n",
    "    \"applicant_race_4\": \"category\",\n",
    "    \"applicant_race_5\": \"category\",\n",
    "    \"applicant_seX\": \"category\",\n",
    "    \"co_applicant_ethnicity\": \"category\",\n",
    "    \"co_applicant_race_1\": \"category\",\n",
    "    \"co_applicant_race_2\": \"category\",\n",
    "    \"co_applicant_race_3\": \"category\",\n",
    "    \"co_applicant_race_4\": \"category\",\n",
    "    \"co_applicant_race_5\": \"category\",\n",
    "    \"co_applicant_seX\": \"category\",\n",
    "\n",
    "\n",
    "    \"property_type\": \"category\",\n",
    "    \n",
    "    \"loan_purpose\": \"category\",\n",
    "    \"loan_type\": \"category\",\n",
    "    \"preapproval\": \"category\",\n",
    "    \"property_type\": \"category\",\n",
    "\n",
    "})\n",
    "\n",
    "X.info()"
   ]
  },
  {
   "cell_type": "code",
   "execution_count": 101,
   "metadata": {},
   "outputs": [],
   "source": [
    "X_train, X_val, y_train, y_val = train_test_split(X, y,\n",
    "                                                  test_size=0.2,\n",
    "                                                  random_state=42)"
   ]
  },
  {
   "cell_type": "code",
   "execution_count": 102,
   "metadata": {},
   "outputs": [
    {
     "data": {
      "text/html": [
       "<style>#sk-container-id-11 {color: black;}#sk-container-id-11 pre{padding: 0;}#sk-container-id-11 div.sk-toggleable {background-color: white;}#sk-container-id-11 label.sk-toggleable__label {cursor: pointer;display: block;width: 100%;margin-bottom: 0;padding: 0.3em;box-sizing: border-box;text-align: center;}#sk-container-id-11 label.sk-toggleable__label-arrow:before {content: \"▸\";float: left;margin-right: 0.25em;color: #696969;}#sk-container-id-11 label.sk-toggleable__label-arrow:hover:before {color: black;}#sk-container-id-11 div.sk-estimator:hover label.sk-toggleable__label-arrow:before {color: black;}#sk-container-id-11 div.sk-toggleable__content {max-height: 0;max-width: 0;overflow: hidden;text-align: left;background-color: #f0f8ff;}#sk-container-id-11 div.sk-toggleable__content pre {margin: 0.2em;color: black;border-radius: 0.25em;background-color: #f0f8ff;}#sk-container-id-11 input.sk-toggleable__control:checked~div.sk-toggleable__content {max-height: 200px;max-width: 100%;overflow: auto;}#sk-container-id-11 input.sk-toggleable__control:checked~label.sk-toggleable__label-arrow:before {content: \"▾\";}#sk-container-id-11 div.sk-estimator input.sk-toggleable__control:checked~label.sk-toggleable__label {background-color: #d4ebff;}#sk-container-id-11 div.sk-label input.sk-toggleable__control:checked~label.sk-toggleable__label {background-color: #d4ebff;}#sk-container-id-11 input.sk-hidden--visually {border: 0;clip: rect(1px 1px 1px 1px);clip: rect(1px, 1px, 1px, 1px);height: 1px;margin: -1px;overflow: hidden;padding: 0;position: absolute;width: 1px;}#sk-container-id-11 div.sk-estimator {font-family: monospace;background-color: #f0f8ff;border: 1px dotted black;border-radius: 0.25em;box-sizing: border-box;margin-bottom: 0.5em;}#sk-container-id-11 div.sk-estimator:hover {background-color: #d4ebff;}#sk-container-id-11 div.sk-parallel-item::after {content: \"\";width: 100%;border-bottom: 1px solid gray;flex-grow: 1;}#sk-container-id-11 div.sk-label:hover label.sk-toggleable__label {background-color: #d4ebff;}#sk-container-id-11 div.sk-serial::before {content: \"\";position: absolute;border-left: 1px solid gray;box-sizing: border-box;top: 0;bottom: 0;left: 50%;z-index: 0;}#sk-container-id-11 div.sk-serial {display: flex;flex-direction: column;align-items: center;background-color: white;padding-right: 0.2em;padding-left: 0.2em;position: relative;}#sk-container-id-11 div.sk-item {position: relative;z-index: 1;}#sk-container-id-11 div.sk-parallel {display: flex;align-items: stretch;justify-content: center;background-color: white;position: relative;}#sk-container-id-11 div.sk-item::before, #sk-container-id-11 div.sk-parallel-item::before {content: \"\";position: absolute;border-left: 1px solid gray;box-sizing: border-box;top: 0;bottom: 0;left: 50%;z-index: -1;}#sk-container-id-11 div.sk-parallel-item {display: flex;flex-direction: column;z-index: 1;position: relative;background-color: white;}#sk-container-id-11 div.sk-parallel-item:first-child::after {align-self: flex-end;width: 50%;}#sk-container-id-11 div.sk-parallel-item:last-child::after {align-self: flex-start;width: 50%;}#sk-container-id-11 div.sk-parallel-item:only-child::after {width: 0;}#sk-container-id-11 div.sk-dashed-wrapped {border: 1px dashed gray;margin: 0 0.4em 0.5em 0.4em;box-sizing: border-box;padding-bottom: 0.4em;background-color: white;}#sk-container-id-11 div.sk-label label {font-family: monospace;font-weight: bold;display: inline-block;line-height: 1.2em;}#sk-container-id-11 div.sk-label-container {text-align: center;}#sk-container-id-11 div.sk-container {/* jupyter's `normalize.less` sets `[hidden] { display: none; }` but bootstrap.min.css set `[hidden] { display: none !important; }` so we also need the `!important` here to be able to override the default hidden behavior on the sphinx rendered scikit-learn.org. See: https://github.com/scikit-learn/scikit-learn/issues/21755 */display: inline-block !important;position: relative;}#sk-container-id-11 div.sk-text-repr-fallback {display: none;}</style><div id=\"sk-container-id-11\" class=\"sk-top-container\"><div class=\"sk-text-repr-fallback\"><pre>LGBMClassifier(max_depth=100, n_estimators=400, random_state=42, verbosity=-1)</pre><b>In a Jupyter environment, please rerun this cell to show the HTML representation or trust the notebook. <br />On GitHub, the HTML representation is unable to render, please try loading this page with nbviewer.org.</b></div><div class=\"sk-container\" hidden><div class=\"sk-item\"><div class=\"sk-estimator sk-toggleable\"><input class=\"sk-toggleable__control sk-hidden--visually\" id=\"sk-estimator-id-11\" type=\"checkbox\" checked><label for=\"sk-estimator-id-11\" class=\"sk-toggleable__label sk-toggleable__label-arrow\">LGBMClassifier</label><div class=\"sk-toggleable__content\"><pre>LGBMClassifier(max_depth=100, n_estimators=400, random_state=42, verbosity=-1)</pre></div></div></div></div></div>"
      ],
      "text/plain": [
       "LGBMClassifier(max_depth=100, n_estimators=400, random_state=42, verbosity=-1)"
      ]
     },
     "execution_count": 102,
     "metadata": {},
     "output_type": "execute_result"
    }
   ],
   "source": [
    "model = LGBMClassifier(verbosity=-1, random_state=42, maX_depth=100, n_estimators=400)\n",
    "model.fit(X_train, y_train)"
   ]
  },
  {
   "cell_type": "code",
   "execution_count": 103,
   "metadata": {},
   "outputs": [
    {
     "data": {
      "text/plain": [
       "0.9243089917032655"
      ]
     },
     "execution_count": 103,
     "metadata": {},
     "output_type": "execute_result"
    }
   ],
   "source": [
    "y_pred = model.predict_proba(X_val)[:, 1]\n",
    "roc_auc_score(y_val, y_pred)"
   ]
  },
  {
   "cell_type": "markdown",
   "metadata": {},
   "source": [
    "### Первая попытка че-то улучшить"
   ]
  },
  {
   "cell_type": "code",
   "execution_count": 66,
   "metadata": {},
   "outputs": [],
   "source": [
    "import lightgbm as lgb\n",
    "def convert_to_lgb_dataset(df, cats):\n",
    "    # Separate features and target variable\n",
    "    features = df.drop('target', aXis=1)\n",
    "    target = df['target']\n",
    "    \n",
    "    # Create LightGBM Dataset\n",
    "    lgb_dataset = lgb.Dataset(data=features, label=target, categorical_feature=cats)\n",
    "    lgb_dataset.construct()\n",
    "\n",
    "    return lgb_dataset"
   ]
  },
  {
   "cell_type": "code",
   "execution_count": null,
   "metadata": {},
   "outputs": [],
   "source": [
    "label = df_train.columns.to_numpy()\n",
    "\n",
    "cats = [\"applicant_ethnicity\", \"income\", \"applicant_race_1\", \"applicant_race_2\", \"applicant_race_3\", \"applicant_race_4\", \"applicant_race_5\", \"applicant_seX\",       \"co_applicant_ethnicity\", \"co_applicant_race_1\", \"co_applicant_race_2\", \"co_applicant_race_3\", \"co_applicant_race_4\", \"co_applicant_race_5\", \"co_applicant_seX\", \"loan_purpose\", \"loan_type\"]\n",
    "\n",
    "train_data = convert_to_lgb_dataset(df_train, cats)\n",
    "train_data.num_feature()"
   ]
  },
  {
   "cell_type": "code",
   "execution_count": 68,
   "metadata": {},
   "outputs": [
    {
     "ename": "LightGBMError",
     "evalue": "Cannot set categorical feature after freed raw data, set free_raw_data=False when construct Dataset to avoid this.",
     "output_type": "error",
     "traceback": [
      "\u001b[1;31m---------------------------------------------------------------------------\u001b[0m",
      "\u001b[1;31mLightGBMError\u001b[0m                             Traceback (most recent call last)",
      "Cell \u001b[1;32mIn[68], line 4\u001b[0m\n\u001b[0;32m      1\u001b[0m param \u001b[38;5;241m=\u001b[39m {\u001b[38;5;124m'\u001b[39m\u001b[38;5;124mmetric\u001b[39m\u001b[38;5;124m'\u001b[39m: \u001b[38;5;124m'\u001b[39m\u001b[38;5;124mauc\u001b[39m\u001b[38;5;124m'\u001b[39m}\n\u001b[0;32m      2\u001b[0m num_round \u001b[38;5;241m=\u001b[39m \u001b[38;5;241m10\u001b[39m\n\u001b[1;32m----> 4\u001b[0m bst \u001b[38;5;241m=\u001b[39m lgb\u001b[38;5;241m.\u001b[39mtrain(param, train_data, num_round)\n",
      "File \u001b[1;32md:\\programm_files\\anaconda\\Lib\\site-packages\\lightgbm\\engine.py:204\u001b[0m, in \u001b[0;36mtrain\u001b[1;34m(params, train_set, num_boost_round, valid_sets, valid_names, feval, init_model, feature_name, categorical_feature, keep_training_booster, callbacks)\u001b[0m\n\u001b[0;32m    198\u001b[0m \u001b[38;5;28;01melse\u001b[39;00m:\n\u001b[0;32m    199\u001b[0m     init_iteration \u001b[38;5;241m=\u001b[39m \u001b[38;5;241m0\u001b[39m\n\u001b[0;32m    201\u001b[0m train_set\u001b[38;5;241m.\u001b[39m_update_params(params) \\\n\u001b[0;32m    202\u001b[0m          \u001b[38;5;241m.\u001b[39m_set_predictor(predictor) \\\n\u001b[0;32m    203\u001b[0m          \u001b[38;5;241m.\u001b[39mset_feature_name(feature_name) \\\n\u001b[1;32m--> 204\u001b[0m          \u001b[38;5;241m.\u001b[39mset_categorical_feature(categorical_feature)\n\u001b[0;32m    206\u001b[0m is_valid_contain_train \u001b[38;5;241m=\u001b[39m \u001b[38;5;28;01mFalse\u001b[39;00m\n\u001b[0;32m    207\u001b[0m train_data_name \u001b[38;5;241m=\u001b[39m \u001b[38;5;124m\"\u001b[39m\u001b[38;5;124mtraining\u001b[39m\u001b[38;5;124m\"\u001b[39m\n",
      "File \u001b[1;32md:\\programm_files\\anaconda\\Lib\\site-packages\\lightgbm\\basic.py:2556\u001b[0m, in \u001b[0;36mDataset.set_categorical_feature\u001b[1;34m(self, categorical_feature)\u001b[0m\n\u001b[0;32m   2554\u001b[0m         \u001b[38;5;28;01mreturn\u001b[39;00m \u001b[38;5;28mself\u001b[39m\u001b[38;5;241m.\u001b[39m_free_handle()\n\u001b[0;32m   2555\u001b[0m \u001b[38;5;28;01melse\u001b[39;00m:\n\u001b[1;32m-> 2556\u001b[0m     \u001b[38;5;28;01mraise\u001b[39;00m LightGBMError(\u001b[38;5;124m\"\u001b[39m\u001b[38;5;124mCannot set categorical feature after freed raw data, \u001b[39m\u001b[38;5;124m\"\u001b[39m\n\u001b[0;32m   2557\u001b[0m                         \u001b[38;5;124m\"\u001b[39m\u001b[38;5;124mset free_raw_data=False when construct Dataset to avoid this.\u001b[39m\u001b[38;5;124m\"\u001b[39m)\n",
      "\u001b[1;31mLightGBMError\u001b[0m: Cannot set categorical feature after freed raw data, set free_raw_data=False when construct Dataset to avoid this."
     ]
    }
   ],
   "source": [
    "param = {'metric': 'auc'}\n",
    "num_round = 10\n",
    "\n",
    "bst = lgb.train(param, train_data, num_round)"
   ]
  },
  {
   "cell_type": "markdown",
   "metadata": {},
   "source": [
    "### Подготовка самбишина\n",
    "\n",
    "Код нужный, чтобы из модели получить файл для загрузки на кодалаб"
   ]
  },
  {
   "cell_type": "code",
   "execution_count": 112,
   "metadata": {},
   "outputs": [
    {
     "data": {
      "text/plain": [
       "(1107611, 2)"
      ]
     },
     "execution_count": 112,
     "metadata": {},
     "output_type": "execute_result"
    }
   ],
   "source": [
    "X=pd.read_csv(\"test.csv\", index_col=0)\n",
    "sample_submission_df = pd.read_csv(\"submission.csv\")\n",
    "\n",
    "sample_submission_df.shape"
   ]
  },
  {
   "cell_type": "code",
   "execution_count": 113,
   "metadata": {},
   "outputs": [],
   "source": [
    "X[\"applicant_race_1\"] = X[\"applicant_race_1\"].fillna(X[\"applicant_race_1\"].median())\n",
    "X[\"applicant_race_2\"] = X[\"applicant_race_2\"].fillna(X[\"applicant_race_2\"].median())\n",
    "X[\"applicant_race_3\"] = X[\"applicant_race_3\"].fillna(X[\"applicant_race_3\"].median())\n",
    "X[\"applicant_race_4\"] = X[\"applicant_race_4\"].fillna(X[\"applicant_race_4\"].median())\n",
    "X[\"applicant_race_5\"] = X[\"applicant_race_5\"].fillna(X[\"applicant_race_5\"].median())"
   ]
  },
  {
   "cell_type": "code",
   "execution_count": 114,
   "metadata": {},
   "outputs": [
    {
     "data": {
      "text/html": [
       "<div>\n",
       "<style scoped>\n",
       "    .dataframe tbody tr th:only-of-type {\n",
       "        vertical-align: middle;\n",
       "    }\n",
       "\n",
       "    .dataframe tbody tr th {\n",
       "        vertical-align: top;\n",
       "    }\n",
       "\n",
       "    .dataframe thead th {\n",
       "        text-align: right;\n",
       "    }\n",
       "</style>\n",
       "<table border=\"1\" class=\"dataframe\">\n",
       "  <thead>\n",
       "    <tr style=\"text-align: right;\">\n",
       "      <th></th>\n",
       "      <th>applicant_ethnicity</th>\n",
       "      <th>income</th>\n",
       "      <th>applicant_sex</th>\n",
       "      <th>co_applicant_ethnicity</th>\n",
       "      <th>co_applicant_race_1</th>\n",
       "      <th>co_applicant_race_2</th>\n",
       "      <th>co_applicant_race_3</th>\n",
       "      <th>co_applicant_race_4</th>\n",
       "      <th>co_applicant_race_5</th>\n",
       "      <th>co_applicant_sex</th>\n",
       "      <th>...</th>\n",
       "      <th>preapproval</th>\n",
       "      <th>property_type</th>\n",
       "      <th>purchaser_type</th>\n",
       "      <th>hud_median_family_income</th>\n",
       "      <th>loan_amount</th>\n",
       "      <th>number_of_1_to_4_family_units</th>\n",
       "      <th>number_of_owner_occupied_units</th>\n",
       "      <th>minority_population</th>\n",
       "      <th>population</th>\n",
       "      <th>applicant_race</th>\n",
       "    </tr>\n",
       "  </thead>\n",
       "  <tbody>\n",
       "    <tr>\n",
       "      <th>0</th>\n",
       "      <td>2</td>\n",
       "      <td>90.0</td>\n",
       "      <td>2</td>\n",
       "      <td>4</td>\n",
       "      <td>8.0</td>\n",
       "      <td>NaN</td>\n",
       "      <td>NaN</td>\n",
       "      <td>NaN</td>\n",
       "      <td>NaN</td>\n",
       "      <td>5</td>\n",
       "      <td>...</td>\n",
       "      <td>2</td>\n",
       "      <td>3</td>\n",
       "      <td>0</td>\n",
       "      <td>68300</td>\n",
       "      <td>55000.0</td>\n",
       "      <td>889</td>\n",
       "      <td>866</td>\n",
       "      <td>94.42</td>\n",
       "      <td>3282</td>\n",
       "      <td>-0.173805</td>\n",
       "    </tr>\n",
       "    <tr>\n",
       "      <th>1</th>\n",
       "      <td>2</td>\n",
       "      <td>77.0</td>\n",
       "      <td>2</td>\n",
       "      <td>2</td>\n",
       "      <td>5.0</td>\n",
       "      <td>NaN</td>\n",
       "      <td>NaN</td>\n",
       "      <td>NaN</td>\n",
       "      <td>NaN</td>\n",
       "      <td>1</td>\n",
       "      <td>...</td>\n",
       "      <td>2</td>\n",
       "      <td>3</td>\n",
       "      <td>0</td>\n",
       "      <td>76000</td>\n",
       "      <td>15000.0</td>\n",
       "      <td>2428</td>\n",
       "      <td>1828</td>\n",
       "      <td>19.71</td>\n",
       "      <td>6031</td>\n",
       "      <td>-0.173805</td>\n",
       "    </tr>\n",
       "    <tr>\n",
       "      <th>2</th>\n",
       "      <td>2</td>\n",
       "      <td>0.0</td>\n",
       "      <td>1</td>\n",
       "      <td>2</td>\n",
       "      <td>5.0</td>\n",
       "      <td>NaN</td>\n",
       "      <td>NaN</td>\n",
       "      <td>NaN</td>\n",
       "      <td>NaN</td>\n",
       "      <td>2</td>\n",
       "      <td>...</td>\n",
       "      <td>2</td>\n",
       "      <td>3</td>\n",
       "      <td>1</td>\n",
       "      <td>82100</td>\n",
       "      <td>275000.0</td>\n",
       "      <td>796</td>\n",
       "      <td>839</td>\n",
       "      <td>10.13</td>\n",
       "      <td>2320</td>\n",
       "      <td>-0.173805</td>\n",
       "    </tr>\n",
       "    <tr>\n",
       "      <th>3</th>\n",
       "      <td>3</td>\n",
       "      <td>NaN</td>\n",
       "      <td>4</td>\n",
       "      <td>3</td>\n",
       "      <td>7.0</td>\n",
       "      <td>NaN</td>\n",
       "      <td>NaN</td>\n",
       "      <td>NaN</td>\n",
       "      <td>NaN</td>\n",
       "      <td>4</td>\n",
       "      <td>...</td>\n",
       "      <td>2</td>\n",
       "      <td>3</td>\n",
       "      <td>2</td>\n",
       "      <td>84500</td>\n",
       "      <td>405000.0</td>\n",
       "      <td>2107</td>\n",
       "      <td>1883</td>\n",
       "      <td>48.07</td>\n",
       "      <td>7557</td>\n",
       "      <td>1.782376</td>\n",
       "    </tr>\n",
       "    <tr>\n",
       "      <th>4</th>\n",
       "      <td>2</td>\n",
       "      <td>84.0</td>\n",
       "      <td>2</td>\n",
       "      <td>4</td>\n",
       "      <td>8.0</td>\n",
       "      <td>NaN</td>\n",
       "      <td>NaN</td>\n",
       "      <td>NaN</td>\n",
       "      <td>NaN</td>\n",
       "      <td>5</td>\n",
       "      <td>...</td>\n",
       "      <td>2</td>\n",
       "      <td>3</td>\n",
       "      <td>3</td>\n",
       "      <td>68600</td>\n",
       "      <td>215000.0</td>\n",
       "      <td>2339</td>\n",
       "      <td>1764</td>\n",
       "      <td>16.55</td>\n",
       "      <td>5546</td>\n",
       "      <td>-0.173805</td>\n",
       "    </tr>\n",
       "    <tr>\n",
       "      <th>...</th>\n",
       "      <td>...</td>\n",
       "      <td>...</td>\n",
       "      <td>...</td>\n",
       "      <td>...</td>\n",
       "      <td>...</td>\n",
       "      <td>...</td>\n",
       "      <td>...</td>\n",
       "      <td>...</td>\n",
       "      <td>...</td>\n",
       "      <td>...</td>\n",
       "      <td>...</td>\n",
       "      <td>...</td>\n",
       "      <td>...</td>\n",
       "      <td>...</td>\n",
       "      <td>...</td>\n",
       "      <td>...</td>\n",
       "      <td>...</td>\n",
       "      <td>...</td>\n",
       "      <td>...</td>\n",
       "      <td>...</td>\n",
       "      <td>...</td>\n",
       "    </tr>\n",
       "    <tr>\n",
       "      <th>276898</th>\n",
       "      <td>3</td>\n",
       "      <td>245.0</td>\n",
       "      <td>4</td>\n",
       "      <td>3</td>\n",
       "      <td>7.0</td>\n",
       "      <td>NaN</td>\n",
       "      <td>NaN</td>\n",
       "      <td>NaN</td>\n",
       "      <td>NaN</td>\n",
       "      <td>4</td>\n",
       "      <td>...</td>\n",
       "      <td>2</td>\n",
       "      <td>3</td>\n",
       "      <td>0</td>\n",
       "      <td>60700</td>\n",
       "      <td>745000.0</td>\n",
       "      <td>1604</td>\n",
       "      <td>354</td>\n",
       "      <td>42.13</td>\n",
       "      <td>4253</td>\n",
       "      <td>1.782376</td>\n",
       "    </tr>\n",
       "    <tr>\n",
       "      <th>276899</th>\n",
       "      <td>2</td>\n",
       "      <td>52.0</td>\n",
       "      <td>1</td>\n",
       "      <td>4</td>\n",
       "      <td>8.0</td>\n",
       "      <td>NaN</td>\n",
       "      <td>NaN</td>\n",
       "      <td>NaN</td>\n",
       "      <td>NaN</td>\n",
       "      <td>5</td>\n",
       "      <td>...</td>\n",
       "      <td>2</td>\n",
       "      <td>3</td>\n",
       "      <td>0</td>\n",
       "      <td>79500</td>\n",
       "      <td>45000.0</td>\n",
       "      <td>2174</td>\n",
       "      <td>1482</td>\n",
       "      <td>18.85</td>\n",
       "      <td>4924</td>\n",
       "      <td>-7.411242</td>\n",
       "    </tr>\n",
       "    <tr>\n",
       "      <th>276900</th>\n",
       "      <td>2</td>\n",
       "      <td>140.0</td>\n",
       "      <td>1</td>\n",
       "      <td>2</td>\n",
       "      <td>5.0</td>\n",
       "      <td>NaN</td>\n",
       "      <td>NaN</td>\n",
       "      <td>NaN</td>\n",
       "      <td>NaN</td>\n",
       "      <td>2</td>\n",
       "      <td>...</td>\n",
       "      <td>2</td>\n",
       "      <td>3</td>\n",
       "      <td>71</td>\n",
       "      <td>82100</td>\n",
       "      <td>365000.0</td>\n",
       "      <td>2036</td>\n",
       "      <td>1142</td>\n",
       "      <td>25.43</td>\n",
       "      <td>4553</td>\n",
       "      <td>-4.086166</td>\n",
       "    </tr>\n",
       "    <tr>\n",
       "      <th>276901</th>\n",
       "      <td>2</td>\n",
       "      <td>69.0</td>\n",
       "      <td>1</td>\n",
       "      <td>4</td>\n",
       "      <td>8.0</td>\n",
       "      <td>NaN</td>\n",
       "      <td>NaN</td>\n",
       "      <td>NaN</td>\n",
       "      <td>NaN</td>\n",
       "      <td>5</td>\n",
       "      <td>...</td>\n",
       "      <td>2</td>\n",
       "      <td>3</td>\n",
       "      <td>2</td>\n",
       "      <td>84500</td>\n",
       "      <td>285000.0</td>\n",
       "      <td>2088</td>\n",
       "      <td>1470</td>\n",
       "      <td>62.29</td>\n",
       "      <td>8960</td>\n",
       "      <td>-2.129986</td>\n",
       "    </tr>\n",
       "    <tr>\n",
       "      <th>276902</th>\n",
       "      <td>3</td>\n",
       "      <td>NaN</td>\n",
       "      <td>4</td>\n",
       "      <td>4</td>\n",
       "      <td>8.0</td>\n",
       "      <td>NaN</td>\n",
       "      <td>NaN</td>\n",
       "      <td>NaN</td>\n",
       "      <td>NaN</td>\n",
       "      <td>5</td>\n",
       "      <td>...</td>\n",
       "      <td>2</td>\n",
       "      <td>3</td>\n",
       "      <td>0</td>\n",
       "      <td>82100</td>\n",
       "      <td>125000.0</td>\n",
       "      <td>1982</td>\n",
       "      <td>1600</td>\n",
       "      <td>82.93</td>\n",
       "      <td>6721</td>\n",
       "      <td>1.782376</td>\n",
       "    </tr>\n",
       "  </tbody>\n",
       "</table>\n",
       "<p>276903 rows × 23 columns</p>\n",
       "</div>"
      ],
      "text/plain": [
       "        applicant_ethnicity  income  applicant_sex  co_applicant_ethnicity  \\\n",
       "0                         2    90.0              2                       4   \n",
       "1                         2    77.0              2                       2   \n",
       "2                         2     0.0              1                       2   \n",
       "3                         3     NaN              4                       3   \n",
       "4                         2    84.0              2                       4   \n",
       "...                     ...     ...            ...                     ...   \n",
       "276898                    3   245.0              4                       3   \n",
       "276899                    2    52.0              1                       4   \n",
       "276900                    2   140.0              1                       2   \n",
       "276901                    2    69.0              1                       4   \n",
       "276902                    3     NaN              4                       4   \n",
       "\n",
       "        co_applicant_race_1  co_applicant_race_2  co_applicant_race_3  \\\n",
       "0                       8.0                  NaN                  NaN   \n",
       "1                       5.0                  NaN                  NaN   \n",
       "2                       5.0                  NaN                  NaN   \n",
       "3                       7.0                  NaN                  NaN   \n",
       "4                       8.0                  NaN                  NaN   \n",
       "...                     ...                  ...                  ...   \n",
       "276898                  7.0                  NaN                  NaN   \n",
       "276899                  8.0                  NaN                  NaN   \n",
       "276900                  5.0                  NaN                  NaN   \n",
       "276901                  8.0                  NaN                  NaN   \n",
       "276902                  8.0                  NaN                  NaN   \n",
       "\n",
       "        co_applicant_race_4  co_applicant_race_5  co_applicant_sex  ...  \\\n",
       "0                       NaN                  NaN                 5  ...   \n",
       "1                       NaN                  NaN                 1  ...   \n",
       "2                       NaN                  NaN                 2  ...   \n",
       "3                       NaN                  NaN                 4  ...   \n",
       "4                       NaN                  NaN                 5  ...   \n",
       "...                     ...                  ...               ...  ...   \n",
       "276898                  NaN                  NaN                 4  ...   \n",
       "276899                  NaN                  NaN                 5  ...   \n",
       "276900                  NaN                  NaN                 2  ...   \n",
       "276901                  NaN                  NaN                 5  ...   \n",
       "276902                  NaN                  NaN                 5  ...   \n",
       "\n",
       "        preapproval  property_type  purchaser_type  hud_median_family_income  \\\n",
       "0                 2              3               0                     68300   \n",
       "1                 2              3               0                     76000   \n",
       "2                 2              3               1                     82100   \n",
       "3                 2              3               2                     84500   \n",
       "4                 2              3               3                     68600   \n",
       "...             ...            ...             ...                       ...   \n",
       "276898            2              3               0                     60700   \n",
       "276899            2              3               0                     79500   \n",
       "276900            2              3              71                     82100   \n",
       "276901            2              3               2                     84500   \n",
       "276902            2              3               0                     82100   \n",
       "\n",
       "        loan_amount  number_of_1_to_4_family_units  \\\n",
       "0           55000.0                            889   \n",
       "1           15000.0                           2428   \n",
       "2          275000.0                            796   \n",
       "3          405000.0                           2107   \n",
       "4          215000.0                           2339   \n",
       "...             ...                            ...   \n",
       "276898     745000.0                           1604   \n",
       "276899      45000.0                           2174   \n",
       "276900     365000.0                           2036   \n",
       "276901     285000.0                           2088   \n",
       "276902     125000.0                           1982   \n",
       "\n",
       "        number_of_owner_occupied_units  minority_population  population  \\\n",
       "0                                  866                94.42        3282   \n",
       "1                                 1828                19.71        6031   \n",
       "2                                  839                10.13        2320   \n",
       "3                                 1883                48.07        7557   \n",
       "4                                 1764                16.55        5546   \n",
       "...                                ...                  ...         ...   \n",
       "276898                             354                42.13        4253   \n",
       "276899                            1482                18.85        4924   \n",
       "276900                            1142                25.43        4553   \n",
       "276901                            1470                62.29        8960   \n",
       "276902                            1600                82.93        6721   \n",
       "\n",
       "        applicant_race  \n",
       "0            -0.173805  \n",
       "1            -0.173805  \n",
       "2            -0.173805  \n",
       "3             1.782376  \n",
       "4            -0.173805  \n",
       "...                ...  \n",
       "276898        1.782376  \n",
       "276899       -7.411242  \n",
       "276900       -4.086166  \n",
       "276901       -2.129986  \n",
       "276902        1.782376  \n",
       "\n",
       "[276903 rows x 23 columns]"
      ]
     },
     "execution_count": 114,
     "metadata": {},
     "output_type": "execute_result"
    }
   ],
   "source": [
    "pca = PCA(n_components=1)\n",
    "kulin = X[[\"applicant_race_1\", \"applicant_race_2\", \"applicant_race_3\", \"applicant_race_4\", \"applicant_race_5\"]]\n",
    "\n",
    "\n",
    "\n",
    "pca.fit(kulin)\n",
    "races = pca.transform(kulin)\n",
    "X[\"applicant_race\"] = races\n",
    "\n",
    "X.drop([\"applicant_race_1\", \"applicant_race_2\", \"applicant_race_3\", \"applicant_race_4\", \"applicant_race_5\"], axis=1)"
   ]
  },
  {
   "cell_type": "code",
   "execution_count": 115,
   "metadata": {},
   "outputs": [
    {
     "data": {
      "text/plain": [
       "(276903,)"
      ]
     },
     "execution_count": 115,
     "metadata": {},
     "output_type": "execute_result"
    }
   ],
   "source": [
    "test_score = model.predict_proba(X)[:, 1]\n",
    "test_score.shape"
   ]
  },
  {
   "cell_type": "code",
   "execution_count": 116,
   "metadata": {},
   "outputs": [],
   "source": [
    "X[\"target\"] = test_score"
   ]
  },
  {
   "cell_type": "code",
   "execution_count": 117,
   "metadata": {},
   "outputs": [],
   "source": [
    "X.target.to_csv('submission.csv')"
   ]
  },
  {
   "cell_type": "code",
   "execution_count": 65,
   "metadata": {},
   "outputs": [
    {
     "name": "stderr",
     "output_type": "stream",
     "text": [
      "'zip' is not recognized as an internal or external command,\n",
      "operable program or batch file.\n"
     ]
    }
   ],
   "source": [
    "!zip submission.zip submission.csv"
   ]
  }
 ],
 "metadata": {
  "kernelspec": {
   "display_name": "base",
   "language": "python",
   "name": "python3"
  },
  "language_info": {
   "codemirror_mode": {
    "name": "ipython",
    "version": 3
   },
   "file_extension": ".py",
   "mimetype": "text/x-python",
   "name": "python",
   "nbconvert_exporter": "python",
   "pygments_lexer": "ipython3",
   "version": "3.11.5"
  }
 },
 "nbformat": 4,
 "nbformat_minor": 2
}
