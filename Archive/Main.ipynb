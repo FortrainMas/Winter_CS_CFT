{
 "cells": [
  {
   "cell_type": "code",
   "execution_count": 39,
   "metadata": {},
   "outputs": [],
   "source": [
    "import pandas as pd\n",
    "import numpy as np\n",
    "SEED = 42 \n",
    "\n",
    "df_train = pd.read_csv(\"train.csv\", index_col=0)\n",
    "df_train[\"coeff0\"] = df_train[\"loan_amount\"]/df_train[\"number_of_owner_occupied_units\"]\n",
    "df_train[\"coeff1\"] = df_train[\"minority_population\"]/df_train[\"population\"]"
   ]
  },
  {
   "cell_type": "code",
   "execution_count": 31,
   "metadata": {},
   "outputs": [
    {
     "data": {
      "text/plain": [
       "Index(['applicant_ethnicity', 'income', 'applicant_race_1', 'applicant_race_2',\n",
       "       'applicant_race_3', 'applicant_race_4', 'applicant_race_5',\n",
       "       'applicant_sex', 'co_applicant_ethnicity', 'co_applicant_race_1',\n",
       "       'co_applicant_race_2', 'co_applicant_race_3', 'co_applicant_race_4',\n",
       "       'co_applicant_race_5', 'co_applicant_sex', 'loan_purpose', 'loan_type',\n",
       "       'msamd', 'preapproval', 'property_type', 'purchaser_type',\n",
       "       'hud_median_family_income', 'loan_amount',\n",
       "       'number_of_1_to_4_family_units', 'number_of_owner_occupied_units',\n",
       "       'minority_population', 'population', 'target', 'coeff0', 'coeff1'],\n",
       "      dtype='object')"
      ]
     },
     "execution_count": 31,
     "metadata": {},
     "output_type": "execute_result"
    }
   ],
   "source": [
    "df_train.columns"
   ]
  },
  {
   "cell_type": "code",
   "execution_count": 32,
   "metadata": {},
   "outputs": [
    {
     "data": {
      "text/plain": [
       "Index(['applicant_ethnicity', 'income', 'applicant_race_1', 'applicant_race_2',\n",
       "       'applicant_race_3', 'applicant_race_4', 'applicant_race_5',\n",
       "       'applicant_sex', 'co_applicant_ethnicity', 'co_applicant_race_1',\n",
       "       'co_applicant_race_2', 'co_applicant_race_3', 'co_applicant_race_4',\n",
       "       'co_applicant_race_5', 'co_applicant_sex', 'loan_type', 'msamd',\n",
       "       'preapproval', 'property_type', 'purchaser_type',\n",
       "       'hud_median_family_income', 'loan_amount',\n",
       "       'number_of_1_to_4_family_units', 'number_of_owner_occupied_units',\n",
       "       'minority_population', 'population', 'target', 'coeff0', 'coeff1',\n",
       "       'loan_purpose_1', 'loan_purpose_2', 'loan_purpose_4', 'loan_purpose_5',\n",
       "       'loan_purpose_31', 'loan_purpose_32'],\n",
       "      dtype='object')"
      ]
     },
     "execution_count": 32,
     "metadata": {},
     "output_type": "execute_result"
    }
   ],
   "source": [
    "def one_hot_encode_feature(dataframe, feature_name):\n",
    "    # Perform one-hot encoding on the specified feature\n",
    "    encoded_df = pd.get_dummies(dataframe, columns=[feature_name], prefix=[feature_name])\n",
    "\n",
    "    return encoded_df\n",
    "one_hot_encode_feature(df_train, \"loan_purpose\").columns"
   ]
  },
  {
   "cell_type": "code",
   "execution_count": 24,
   "metadata": {},
   "outputs": [],
   "source": [
    "arr = np.zeros(6)\n",
    "for index, row in df_train.iterrows():\n",
    "    if(row[\"target\"] == 1):\n",
    "        if(row[\"loan_purpose\"] == 1):\n",
    "            arr[0]+=1\n",
    "        elif(row[\"loan_purpose\"] == 32):\n",
    "            arr[1]+=1\n",
    "        elif(row[\"loan_purpose\"] == 31):\n",
    "            arr[2]+=1\n",
    "        elif(row[\"loan_purpose\"] == 2):\n",
    "            arr[3]+=1\n",
    "        elif(row[\"loan_purpose\"] == 4):\n",
    "            arr[4]+=1\n",
    "        else:\n",
    "            arr[5]+=1\n",
    "    "
   ]
  },
  {
   "cell_type": "code",
   "execution_count": 43,
   "metadata": {},
   "outputs": [
    {
     "data": {
      "text/plain": [
       "loan_purpose\n",
       "1     549339\n",
       "32    248143\n",
       "31    115804\n",
       "2      98090\n",
       "4      92484\n",
       "5       3751\n",
       "Name: count, dtype: int64"
      ]
     },
     "execution_count": 43,
     "metadata": {},
     "output_type": "execute_result"
    }
   ],
   "source": [
    "df_train['loan_purpose'].value_counts()"
   ]
  },
  {
   "cell_type": "code",
   "execution_count": 46,
   "metadata": {},
   "outputs": [
    {
     "data": {
      "text/plain": [
       "loan_purpose\n",
       "1     52.597212\n",
       "2     40.475074\n",
       "4     37.670300\n",
       "5      3.252466\n",
       "31    43.245484\n",
       "32    42.838605\n",
       "Name: target, dtype: float64"
      ]
     },
     "execution_count": 46,
     "metadata": {},
     "output_type": "execute_result"
    }
   ],
   "source": [
    "result = df_train.groupby('loan_purpose')['target'].mean() * 100\n",
    "result"
   ]
  },
  {
   "cell_type": "code",
   "execution_count": 14,
   "metadata": {},
   "outputs": [
    {
     "data": {
      "text/plain": [
       "loan_purpose\n",
       "1     549339\n",
       "32    248143\n",
       "31    115804\n",
       "2      98090\n",
       "4      92484\n",
       "5       3751\n",
       "Name: count, dtype: int64"
      ]
     },
     "execution_count": 14,
     "metadata": {},
     "output_type": "execute_result"
    }
   ],
   "source": [
    "df_train[\"loan_purpose\"].value_counts()"
   ]
  },
  {
   "cell_type": "code",
   "execution_count": 12,
   "metadata": {},
   "outputs": [
    {
     "data": {
      "text/html": [
       "<div>\n",
       "<style scoped>\n",
       "    .dataframe tbody tr th:only-of-type {\n",
       "        vertical-align: middle;\n",
       "    }\n",
       "\n",
       "    .dataframe tbody tr th {\n",
       "        vertical-align: top;\n",
       "    }\n",
       "\n",
       "    .dataframe thead th {\n",
       "        text-align: right;\n",
       "    }\n",
       "</style>\n",
       "<table border=\"1\" class=\"dataframe\">\n",
       "  <thead>\n",
       "    <tr style=\"text-align: right;\">\n",
       "      <th></th>\n",
       "      <th>applicant_ethnicity</th>\n",
       "      <th>preapproval</th>\n",
       "      <th>coeff0</th>\n",
       "      <th>coeff1</th>\n",
       "      <th>target</th>\n",
       "    </tr>\n",
       "  </thead>\n",
       "  <tbody>\n",
       "    <tr>\n",
       "      <th>applicant_ethnicity</th>\n",
       "      <td>1.000000</td>\n",
       "      <td>0.026788</td>\n",
       "      <td>0.011521</td>\n",
       "      <td>-0.000845</td>\n",
       "      <td>-0.178927</td>\n",
       "    </tr>\n",
       "    <tr>\n",
       "      <th>preapproval</th>\n",
       "      <td>0.026788</td>\n",
       "      <td>1.000000</td>\n",
       "      <td>0.000062</td>\n",
       "      <td>0.000791</td>\n",
       "      <td>-0.063208</td>\n",
       "    </tr>\n",
       "    <tr>\n",
       "      <th>coeff0</th>\n",
       "      <td>0.011521</td>\n",
       "      <td>0.000062</td>\n",
       "      <td>1.000000</td>\n",
       "      <td>0.016457</td>\n",
       "      <td>0.004289</td>\n",
       "    </tr>\n",
       "    <tr>\n",
       "      <th>coeff1</th>\n",
       "      <td>-0.000845</td>\n",
       "      <td>0.000791</td>\n",
       "      <td>0.016457</td>\n",
       "      <td>1.000000</td>\n",
       "      <td>-0.004400</td>\n",
       "    </tr>\n",
       "    <tr>\n",
       "      <th>target</th>\n",
       "      <td>-0.178927</td>\n",
       "      <td>-0.063208</td>\n",
       "      <td>0.004289</td>\n",
       "      <td>-0.004400</td>\n",
       "      <td>1.000000</td>\n",
       "    </tr>\n",
       "  </tbody>\n",
       "</table>\n",
       "</div>"
      ],
      "text/plain": [
       "                     applicant_ethnicity  preapproval    coeff0    coeff1  \\\n",
       "applicant_ethnicity             1.000000     0.026788  0.011521 -0.000845   \n",
       "preapproval                     0.026788     1.000000  0.000062  0.000791   \n",
       "coeff0                          0.011521     0.000062  1.000000  0.016457   \n",
       "coeff1                         -0.000845     0.000791  0.016457  1.000000   \n",
       "target                         -0.178927    -0.063208  0.004289 -0.004400   \n",
       "\n",
       "                       target  \n",
       "applicant_ethnicity -0.178927  \n",
       "preapproval         -0.063208  \n",
       "coeff0               0.004289  \n",
       "coeff1              -0.004400  \n",
       "target               1.000000  "
      ]
     },
     "execution_count": 12,
     "metadata": {},
     "output_type": "execute_result"
    }
   ],
   "source": [
    "df_train[['applicant_ethnicity', 'preapproval', 'coeff0', 'coeff1', 'target']].corr()"
   ]
  },
  {
   "cell_type": "code",
   "execution_count": 5,
   "metadata": {},
   "outputs": [
    {
     "data": {
      "text/plain": [
       "minority_population\n",
       "0.00     10675\n",
       "21.00     2521\n",
       "29.36     2407\n",
       "30.72     2402\n",
       "53.67     2394\n",
       "         ...  \n",
       "80.06        2\n",
       "84.27        1\n",
       "35.01        1\n",
       "82.47        1\n",
       "47.80        1\n",
       "Name: count, Length: 3847, dtype: int64"
      ]
     },
     "execution_count": 5,
     "metadata": {},
     "output_type": "execute_result"
    }
   ],
   "source": [
    "df_train['minority_population'].value_counts()"
   ]
  },
  {
   "cell_type": "code",
   "execution_count": 7,
   "metadata": {},
   "outputs": [
    {
     "data": {
      "text/plain": [
       "91.64"
      ]
     },
     "execution_count": 7,
     "metadata": {},
     "output_type": "execute_result"
    }
   ],
   "source": [
    "df_train['minority_population'].quantile(0.95)\n"
   ]
  },
  {
   "cell_type": "code",
   "execution_count": 18,
   "metadata": {},
   "outputs": [
    {
     "name": "stdout",
     "output_type": "stream",
     "text": [
      "<class 'pandas.core.frame.DataFrame'>\n",
      "Index: 1107611 entries, 0 to 1107610\n",
      "Data columns (total 28 columns):\n",
      " #   Column                          Non-Null Count    Dtype  \n",
      "---  ------                          --------------    -----  \n",
      " 0   applicant_ethnicity             1107611 non-null  float64\n",
      " 1   income                          984345 non-null   float64\n",
      " 2   applicant_race_1                1107376 non-null  float64\n",
      " 3   applicant_race_2                35442 non-null    float64\n",
      " 4   applicant_race_3                3369 non-null     float64\n",
      " 5   applicant_race_4                374 non-null      float64\n",
      " 6   applicant_race_5                106 non-null      float64\n",
      " 7   applicant_sex                   1107611 non-null  int64  \n",
      " 8   co_applicant_ethnicity          1107611 non-null  int64  \n",
      " 9   co_applicant_race_1             1107523 non-null  float64\n",
      " 10  co_applicant_race_2             11395 non-null    float64\n",
      " 11  co_applicant_race_3             999 non-null      float64\n",
      " 12  co_applicant_race_4             86 non-null       float64\n",
      " 13  co_applicant_race_5             25 non-null       float64\n",
      " 14  co_applicant_sex                1107611 non-null  int64  \n",
      " 15  loan_purpose                    1107611 non-null  int64  \n",
      " 16  loan_type                       1107611 non-null  int64  \n",
      " 17  msamd                           1107611 non-null  int64  \n",
      " 18  preapproval                     1107611 non-null  int64  \n",
      " 19  property_type                   1107611 non-null  int64  \n",
      " 20  purchaser_type                  1107611 non-null  int64  \n",
      " 21  hud_median_family_income        1107611 non-null  int64  \n",
      " 22  loan_amount                     1107611 non-null  float64\n",
      " 23  number_of_1_to_4_family_units   1107611 non-null  int64  \n",
      " 24  number_of_owner_occupied_units  1107611 non-null  int64  \n",
      " 25  minority_population             1107611 non-null  float64\n",
      " 26  population                      1107611 non-null  int64  \n",
      " 27  target                          1107611 non-null  bool   \n",
      "dtypes: bool(1), float64(14), int64(13)\n",
      "memory usage: 237.7 MB\n"
     ]
    }
   ],
   "source": [
    "df_train = df_train.astype({\"applicant_ethnicity\": \"float64\"})\n",
    "df_train.info()"
   ]
  },
  {
   "cell_type": "code",
   "execution_count": 25,
   "metadata": {},
   "outputs": [
    {
     "data": {
      "text/plain": [
       "27"
      ]
     },
     "execution_count": 25,
     "metadata": {},
     "output_type": "execute_result"
    }
   ],
   "source": [
    "import pandas as pd\n",
    "\n",
    "# Define the dataframe\n",
    "data = {'feature1': [1, 2, 3, 4, 5],\n",
    "        'feature2': [0.1, 0.5, 0.3, 0.8, 0.2],\n",
    "        'target': [0, 1, 1, 0, 1]}\n",
    "\n",
    "df = pd.DataFrame(data)\n",
    "\n",
    "\n",
    "import lightgbm as lgb\n",
    "\n",
    "def convert_to_lgb_dataset(df):\n",
    "    # Separate features and target variable\n",
    "    features = df.drop('target', axis=1)\n",
    "    target = df['target']\n",
    "    \n",
    "    # Create LightGBM Dataset\n",
    "    lgb_dataset = lgb.Dataset(data=features, label=target)\n",
    "    \n",
    "    return lgb_dataset\n",
    "\n",
    "# Example usage\n",
    "# Assuming you have a pandas DataFrame called 'df'\n",
    "\n",
    "lgb_dataset = convert_to_lgb_dataset(df_train)\n",
    "lgb_dataset.construct()\n",
    "lgb_dataset.num_feature()"
   ]
  },
  {
   "cell_type": "code",
   "execution_count": null,
   "metadata": {},
   "outputs": [],
   "source": [
    "cols = df_train.columns\n",
    "for i in cols: \n",
    "    print(i)\n",
    "    print(len(set(df_train[i].values)))\n",
    "    print(set(df_train[i].values))\n",
    "\n",
    "\n"
   ]
  }
 ],
 "metadata": {
  "kernelspec": {
   "display_name": "base",
   "language": "python",
   "name": "python3"
  },
  "language_info": {
   "codemirror_mode": {
    "name": "ipython",
    "version": 3
   },
   "file_extension": ".py",
   "mimetype": "text/x-python",
   "name": "python",
   "nbconvert_exporter": "python",
   "pygments_lexer": "ipython3",
   "version": "3.11.5"
  }
 },
 "nbformat": 4,
 "nbformat_minor": 2
}
